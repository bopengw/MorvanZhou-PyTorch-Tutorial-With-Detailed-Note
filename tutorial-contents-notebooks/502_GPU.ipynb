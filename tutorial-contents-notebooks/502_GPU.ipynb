{
 "cells": [
  {
   "cell_type": "markdown",
   "metadata": {},
   "source": [
    "# 502 GPU\n",
    "\n",
    "View more, visit my tutorial page: https://morvanzhou.github.io/tutorials/\n",
    "My Youtube Channel: https://www.youtube.com/user/MorvanZhou\n",
    "\n",
    "Dependencies:\n",
    "* torch: 0.1.11\n",
    "* torchvision"
   ]
  },
  {
   "cell_type": "code",
   "execution_count": 1,
   "metadata": {},
   "outputs": [],
   "source": [
    "import torch\n",
    "import torch.nn as nn\n",
    "from torch.autograd import Variable\n",
    "import torch.utils.data as Data\n",
    "import torchvision\n",
    "\n",
    "torch.manual_seed(1)\n",
    "\n",
    "import matplotlib.pyplot as plt\n",
    "%matplotlib inline"
   ]
  },
  {
   "cell_type": "code",
   "execution_count": 2,
   "metadata": {},
   "outputs": [],
   "source": [
    "EPOCH = 1\n",
    "BATCH_SIZE = 50\n",
    "LR = 0.001\n",
    "DOWNLOAD_MNIST = False"
   ]
  },
  {
   "cell_type": "code",
   "execution_count": 3,
   "metadata": {},
   "outputs": [],
   "source": [
    "train_data = torchvision.datasets.MNIST(\n",
    "    root='./mnist/', \n",
    "    train=True, \n",
    "    transform=torchvision.transforms.ToTensor(), \n",
    "    download=DOWNLOAD_MNIST,)\n",
    "\n",
    "train_loader = Data.DataLoader(\n",
    "    dataset=train_data, \n",
    "    batch_size=BATCH_SIZE, \n",
    "    shuffle=True)\n",
    "\n",
    "test_data = torchvision.datasets.MNIST(\n",
    "    root='./mnist/', train=False)\n",
    "\n",
    "# !!!!!!!! Change in here !!!!!!!!! #\n",
    "test_x = Variable(torch.unsqueeze(test_data.test_data, dim=1)).type(torch.FloatTensor)[:2000].cuda()/255.   # Tensor on GPU\n",
    "test_y = test_data.test_labels[:2000].cuda()"
   ]
  },
  {
   "cell_type": "code",
   "execution_count": 4,
   "metadata": {},
   "outputs": [
    {
     "name": "stdout",
     "output_type": "stream",
     "text": [
      "torch.Size([10000, 28, 28]) torch.Size([2000, 1, 28, 28])\n",
      "torch.ByteTensor torch.cuda.FloatTensor\n",
      "tensor(255, dtype=torch.uint8) tensor(1., device='cuda:0')\n",
      "False True\n"
     ]
    }
   ],
   "source": [
    "print(test_data.test_data.shape, test_x.shape)\n",
    "print(test_data.test_data.type(), test_x.type())\n",
    "print(test_data.test_data.max(), test_x.max())\n",
    "print(test_data.test_data.is_cuda, test_x.is_cuda)"
   ]
  },
  {
   "cell_type": "code",
   "execution_count": 5,
   "metadata": {},
   "outputs": [],
   "source": [
    "class CNN(nn.Module):\n",
    "    def __init__(self):\n",
    "        super(CNN, self).__init__()\n",
    "        self.conv1 = nn.Sequential(\n",
    "            nn.Conv2d(in_channels=1, out_channels=16, kernel_size=5, stride=1, padding=2,),                      \n",
    "            nn.ReLU(), \n",
    "            nn.MaxPool2d(kernel_size=2),)\n",
    "        self.conv2 = nn.Sequential(\n",
    "            nn.Conv2d(16, 32, 5, 1, 2), \n",
    "            nn.ReLU(), \n",
    "            nn.MaxPool2d(2),)\n",
    "        self.out = nn.Linear(32 * 7 * 7, 10)\n",
    "\n",
    "    def forward(self, x):\n",
    "        x = self.conv1(x)\n",
    "        x = self.conv2(x)\n",
    "        x = x.view(x.size(0), -1)\n",
    "        output = self.out(x)\n",
    "        return output"
   ]
  },
  {
   "cell_type": "code",
   "execution_count": 6,
   "metadata": {},
   "outputs": [
    {
     "data": {
      "text/plain": [
       "CNN(\n",
       "  (conv1): Sequential(\n",
       "    (0): Conv2d(1, 16, kernel_size=(5, 5), stride=(1, 1), padding=(2, 2))\n",
       "    (1): ReLU()\n",
       "    (2): MaxPool2d(kernel_size=2, stride=2, padding=0, dilation=1, ceil_mode=False)\n",
       "  )\n",
       "  (conv2): Sequential(\n",
       "    (0): Conv2d(16, 32, kernel_size=(5, 5), stride=(1, 1), padding=(2, 2))\n",
       "    (1): ReLU()\n",
       "    (2): MaxPool2d(kernel_size=2, stride=2, padding=0, dilation=1, ceil_mode=False)\n",
       "  )\n",
       "  (out): Linear(in_features=1568, out_features=10, bias=True)\n",
       ")"
      ]
     },
     "execution_count": 6,
     "metadata": {},
     "output_type": "execute_result"
    }
   ],
   "source": [
    "cnn = CNN()\n",
    "cnn"
   ]
  },
  {
   "cell_type": "code",
   "execution_count": 7,
   "metadata": {},
   "outputs": [
    {
     "name": "stdout",
     "output_type": "stream",
     "text": [
      "False\n"
     ]
    }
   ],
   "source": [
    "print(next(cnn.parameters()).is_cuda)"
   ]
  },
  {
   "cell_type": "code",
   "execution_count": 8,
   "metadata": {},
   "outputs": [
    {
     "name": "stdout",
     "output_type": "stream",
     "text": [
      "True\n"
     ]
    }
   ],
   "source": [
    "# !!!!!!!! Change in here !!!!!!!!! #\n",
    "cnn.cuda()      # Moves all model parameters and buffers to the GPU.\n",
    "print(next(cnn.parameters()).is_cuda)"
   ]
  },
  {
   "cell_type": "code",
   "execution_count": 9,
   "metadata": {},
   "outputs": [],
   "source": [
    "optimizer = torch.optim.Adam(cnn.parameters(), lr=LR)\n",
    "loss_func = nn.CrossEntropyLoss()\n",
    "\n",
    "losses_his = []"
   ]
  },
  {
   "cell_type": "markdown",
   "metadata": {},
   "source": [
    "### Training"
   ]
  },
  {
   "cell_type": "code",
   "execution_count": 10,
   "metadata": {},
   "outputs": [
    {
     "name": "stdout",
     "output_type": "stream",
     "text": [
      "Epoch:  0 | train loss: 2.3105 | test accuracy: 0.06\n",
      "Epoch:  0 | train loss: 0.6184 | test accuracy: 0.83\n",
      "Epoch:  0 | train loss: 0.1271 | test accuracy: 0.87\n",
      "Epoch:  0 | train loss: 0.2375 | test accuracy: 0.91\n",
      "Epoch:  0 | train loss: 0.4060 | test accuracy: 0.93\n",
      "Epoch:  0 | train loss: 0.0839 | test accuracy: 0.94\n",
      "Epoch:  0 | train loss: 0.1952 | test accuracy: 0.95\n",
      "Epoch:  0 | train loss: 0.1100 | test accuracy: 0.95\n",
      "Epoch:  0 | train loss: 0.1241 | test accuracy: 0.96\n",
      "Epoch:  0 | train loss: 0.0689 | test accuracy: 0.96\n",
      "Epoch:  0 | train loss: 0.2199 | test accuracy: 0.96\n",
      "Epoch:  0 | train loss: 0.2147 | test accuracy: 0.96\n",
      "Epoch:  0 | train loss: 0.0240 | test accuracy: 0.97\n",
      "Epoch:  0 | train loss: 0.0847 | test accuracy: 0.97\n",
      "Epoch:  0 | train loss: 0.2125 | test accuracy: 0.97\n",
      "Epoch:  0 | train loss: 0.1029 | test accuracy: 0.97\n",
      "Epoch:  0 | train loss: 0.0412 | test accuracy: 0.97\n",
      "Epoch:  0 | train loss: 0.0898 | test accuracy: 0.98\n",
      "Epoch:  0 | train loss: 0.0554 | test accuracy: 0.98\n",
      "Epoch:  0 | train loss: 0.0986 | test accuracy: 0.98\n",
      "Epoch:  0 | train loss: 0.0322 | test accuracy: 0.98\n",
      "Epoch:  0 | train loss: 0.0220 | test accuracy: 0.98\n",
      "Epoch:  0 | train loss: 0.0281 | test accuracy: 0.98\n",
      "Epoch:  0 | train loss: 0.1206 | test accuracy: 0.98\n"
     ]
    }
   ],
   "source": [
    "for epoch in range(EPOCH):\n",
    "    for step, (x, y) in enumerate(train_loader):\n",
    "\n",
    "        # !!!!!!!! Change in here !!!!!!!!! #\n",
    "        b_x = Variable(x).cuda()    # Tensor on GPU\n",
    "        b_y = Variable(y).cuda()    # Tensor on GPU\n",
    "\n",
    "        output = cnn(b_x)\n",
    "        loss = loss_func(output, b_y)\n",
    "        losses_his.append(loss.item()) #data[0])\n",
    "        optimizer.zero_grad()\n",
    "        loss.backward()\n",
    "        optimizer.step()\n",
    "\n",
    "        if step % 50 == 0:\n",
    "            test_output = cnn(test_x)\n",
    "\n",
    "            # !!!!!!!! Change in here !!!!!!!!! #\n",
    "            pred_y = torch.max(test_output, 1)[1].cuda().data.squeeze()  # move the computation in GPU\n",
    "            \n",
    "            \"\"\"\n",
    "            sum() returns different result as torch.sum!!!\n",
    "            giving a example:\n",
    "            sum() : 176\n",
    "            torch.sum(): 1968\n",
    "            \"\"\"\n",
    "            # without .type(torch.FloatTensor), accuracy will always be 0\n",
    "            accuracy = torch.sum(pred_y==test_y).type(torch.FloatTensor) / test_y.size(0)\n",
    "#             accuracy = sum(pred_y == test_y) / test_y.size(0)\n",
    "#             print('Epoch: ', epoch, '| train loss: %.4f' % loss.data[0], '| test accuracy: %.2f' % accuracy)\n",
    "            print('Epoch: ', epoch, '| train loss: %.4f' % loss.item(), '| test accuracy: %.2f' % accuracy)\n",
    "#             print(sum(pred_y == test_y), test_y.size(0))\n",
    "#             print(sum(pred_y == test_y), sum(pred_y == test_y).type(torch.FloatTensor) / test_y.size(0))\n",
    "#             print(torch.sum(pred_y==test_y), torch.sum(pred_y==test_y).type(torch.FloatTensor) / test_y.size(0))\n"
   ]
  },
  {
   "cell_type": "code",
   "execution_count": 11,
   "metadata": {},
   "outputs": [
    {
     "data": {
      "image/png": "[encoded data removed]",
      "text/plain": [
       "<Figure size 432x288 with 1 Axes>"
      ]
     },
     "metadata": {
      "needs_background": "light"
     },
     "output_type": "display_data"
    }
   ],
   "source": [
    "plt.plot(losses_his, label='loss')\n",
    "plt.legend(loc='best')\n",
    "plt.xlabel('Steps')\n",
    "plt.ylabel('Loss')\n",
    "plt.ylim((0, 1))\n",
    "plt.show()"
   ]
  },
  {
   "cell_type": "markdown",
   "metadata": {},
   "source": [
    "### Test"
   ]
  },
  {
   "cell_type": "code",
   "execution_count": 12,
   "metadata": {},
   "outputs": [
    {
     "name": "stdout",
     "output_type": "stream",
     "text": [
      "tensor([7, 2, 1, 0, 4, 1, 4, 9, 5, 9], device='cuda:0') prediction number\n",
      "tensor([7, 2, 1, 0, 4, 1, 4, 9, 5, 9], device='cuda:0') real number\n"
     ]
    }
   ],
   "source": [
    "# !!!!!!!! Change in here !!!!!!!!! #\n",
    "test_output = cnn(test_x[:10])\n",
    "pred_y = torch.max(test_output, 1)[1].cuda().data.squeeze() # move the computation in GPU\n",
    "\n",
    "print(pred_y, 'prediction number')\n",
    "# if without [:10]\n",
    "# print(test_y, 'real number') #tensor([7, 2, 1,  ..., 3, 9, 5], device='cuda:0') real number\n",
    "print(test_y[:10], 'real number')"
   ]
  },
  {
   "cell_type": "code",
   "execution_count": null,
   "metadata": {},
   "outputs": [],
   "source": []
  }
 ],
 "metadata": {
  "kernelspec": {
   "display_name": "Python 3",
   "language": "python",
   "name": "python3"
  },
  "language_info": {
   "codemirror_mode": {
    "name": "ipython",
    "version": 3
   },
   "file_extension": ".py",
   "mimetype": "text/x-python",
   "name": "python",
   "nbconvert_exporter": "python",
   "pygments_lexer": "ipython3",
   "version": "3.6.5"
  }
 },
 "nbformat": 4,
 "nbformat_minor": 2
}
